{
  "nbformat": 4,
  "nbformat_minor": 0,
  "metadata": {
    "kernelspec": {
      "display_name": "Python 3",
      "language": "python",
      "name": "python3"
    },
    "language_info": {
      "codemirror_mode": {
        "name": "ipython",
        "version": 3
      },
      "file_extension": ".py",
      "mimetype": "text/x-python",
      "name": "python",
      "nbconvert_exporter": "python",
      "pygments_lexer": "ipython3",
      "version": "3.6.6"
    },
    "colab": {
      "name": "CH-Harsh Mudgil-Hotel Booking Analysis - Capstone Project.ipynb",
      "provenance": [],
      "include_colab_link": true
    }
  },
  "cells": [
    {
      "cell_type": "markdown",
      "metadata": {
        "id": "view-in-github",
        "colab_type": "text"
      },
      "source": [
        "<a href=\"https://colab.research.google.com/github/harshmudgil97/almabetter-EDA/blob/main/CH_Harsh_Mudgil_Hotel_Booking_Analysis_Capstone_Project.ipynb\" target=\"_parent\"><img src=\"https://colab.research.google.com/assets/colab-badge.svg\" alt=\"Open In Colab\"/></a>"
      ]
    },
    {
      "cell_type": "markdown",
      "metadata": {
        "id": "Y06xIdG26kRF"
      },
      "source": [
        "## <b> Have you ever wondered when the best time of year to book a hotel room is? Or the optimal length of stay in order to get the best daily rate? What if you wanted to predict whether or not a hotel was likely to receive a disproportionately high number of special requests? This hotel booking dataset can help you explore those questions!\n",
        "\n",
        "## <b>This data set contains booking information for a city hotel and a resort hotel, and includes information such as when the booking was made, length of stay, the number of adults, children, and/or babies, and the number of available parking spaces, among other things. All personally identifying information has been removed from the data. </b>\n",
        "\n",
        "## <b> Explore and analyze the data to discover important factors that govern the bookings. </b>"
      ]
    },
    {
      "cell_type": "code",
      "metadata": {
        "id": "L1aqPTkNUpTn"
      },
      "source": [
        "import numpy as np\n",
        "import pandas as pd"
      ],
      "execution_count": 220,
      "outputs": []
    },
    {
      "cell_type": "code",
      "metadata": {
        "id": "dByMsuzT8Tnw",
        "colab": {
          "base_uri": "https://localhost:8080/"
        },
        "outputId": "666f374b-2c7a-4c3d-8b88-958db6b0a88b"
      },
      "source": [
        "from google.colab import drive\n",
        "drive.mount('/content/drive')"
      ],
      "execution_count": 221,
      "outputs": [
        {
          "output_type": "stream",
          "text": [
            "Drive already mounted at /content/drive; to attempt to forcibly remount, call drive.mount(\"/content/drive\", force_remount=True).\n"
          ],
          "name": "stdout"
        }
      ]
    },
    {
      "cell_type": "code",
      "metadata": {
        "id": "b_qvvozsUhZ8"
      },
      "source": [
        "df = pd.read_csv('/content/drive/MyDrive/Colab Notebooks/Data/EDA Self Project/Hotel Bookings.csv')"
      ],
      "execution_count": 222,
      "outputs": []
    },
    {
      "cell_type": "code",
      "metadata": {
        "id": "qiKeCgJ_Uu9v",
        "colab": {
          "base_uri": "https://localhost:8080/",
          "height": 212
        },
        "outputId": "2f236e19-a53c-49cc-ad8a-d74477677c39"
      },
      "source": [
        "df.head(3)"
      ],
      "execution_count": 6,
      "outputs": [
        {
          "output_type": "execute_result",
          "data": {
            "text/html": [
              "<div>\n",
              "<style scoped>\n",
              "    .dataframe tbody tr th:only-of-type {\n",
              "        vertical-align: middle;\n",
              "    }\n",
              "\n",
              "    .dataframe tbody tr th {\n",
              "        vertical-align: top;\n",
              "    }\n",
              "\n",
              "    .dataframe thead th {\n",
              "        text-align: right;\n",
              "    }\n",
              "</style>\n",
              "<table border=\"1\" class=\"dataframe\">\n",
              "  <thead>\n",
              "    <tr style=\"text-align: right;\">\n",
              "      <th></th>\n",
              "      <th>hotel</th>\n",
              "      <th>is_canceled</th>\n",
              "      <th>lead_time</th>\n",
              "      <th>arrival_date_year</th>\n",
              "      <th>arrival_date_month</th>\n",
              "      <th>arrival_date_week_number</th>\n",
              "      <th>arrival_date_day_of_month</th>\n",
              "      <th>stays_in_weekend_nights</th>\n",
              "      <th>stays_in_week_nights</th>\n",
              "      <th>adults</th>\n",
              "      <th>children</th>\n",
              "      <th>babies</th>\n",
              "      <th>meal</th>\n",
              "      <th>country</th>\n",
              "      <th>market_segment</th>\n",
              "      <th>distribution_channel</th>\n",
              "      <th>is_repeated_guest</th>\n",
              "      <th>previous_cancellations</th>\n",
              "      <th>previous_bookings_not_canceled</th>\n",
              "      <th>reserved_room_type</th>\n",
              "      <th>assigned_room_type</th>\n",
              "      <th>booking_changes</th>\n",
              "      <th>deposit_type</th>\n",
              "      <th>agent</th>\n",
              "      <th>company</th>\n",
              "      <th>days_in_waiting_list</th>\n",
              "      <th>customer_type</th>\n",
              "      <th>adr</th>\n",
              "      <th>required_car_parking_spaces</th>\n",
              "      <th>total_of_special_requests</th>\n",
              "      <th>reservation_status</th>\n",
              "      <th>reservation_status_date</th>\n",
              "    </tr>\n",
              "  </thead>\n",
              "  <tbody>\n",
              "    <tr>\n",
              "      <th>0</th>\n",
              "      <td>Resort Hotel</td>\n",
              "      <td>0</td>\n",
              "      <td>342</td>\n",
              "      <td>2015</td>\n",
              "      <td>July</td>\n",
              "      <td>27</td>\n",
              "      <td>1</td>\n",
              "      <td>0</td>\n",
              "      <td>0</td>\n",
              "      <td>2</td>\n",
              "      <td>0.0</td>\n",
              "      <td>0</td>\n",
              "      <td>BB</td>\n",
              "      <td>PRT</td>\n",
              "      <td>Direct</td>\n",
              "      <td>Direct</td>\n",
              "      <td>0</td>\n",
              "      <td>0</td>\n",
              "      <td>0</td>\n",
              "      <td>C</td>\n",
              "      <td>C</td>\n",
              "      <td>3</td>\n",
              "      <td>No Deposit</td>\n",
              "      <td>NaN</td>\n",
              "      <td>NaN</td>\n",
              "      <td>0</td>\n",
              "      <td>Transient</td>\n",
              "      <td>0.0</td>\n",
              "      <td>0</td>\n",
              "      <td>0</td>\n",
              "      <td>Check-Out</td>\n",
              "      <td>2015-07-01</td>\n",
              "    </tr>\n",
              "    <tr>\n",
              "      <th>1</th>\n",
              "      <td>Resort Hotel</td>\n",
              "      <td>0</td>\n",
              "      <td>737</td>\n",
              "      <td>2015</td>\n",
              "      <td>July</td>\n",
              "      <td>27</td>\n",
              "      <td>1</td>\n",
              "      <td>0</td>\n",
              "      <td>0</td>\n",
              "      <td>2</td>\n",
              "      <td>0.0</td>\n",
              "      <td>0</td>\n",
              "      <td>BB</td>\n",
              "      <td>PRT</td>\n",
              "      <td>Direct</td>\n",
              "      <td>Direct</td>\n",
              "      <td>0</td>\n",
              "      <td>0</td>\n",
              "      <td>0</td>\n",
              "      <td>C</td>\n",
              "      <td>C</td>\n",
              "      <td>4</td>\n",
              "      <td>No Deposit</td>\n",
              "      <td>NaN</td>\n",
              "      <td>NaN</td>\n",
              "      <td>0</td>\n",
              "      <td>Transient</td>\n",
              "      <td>0.0</td>\n",
              "      <td>0</td>\n",
              "      <td>0</td>\n",
              "      <td>Check-Out</td>\n",
              "      <td>2015-07-01</td>\n",
              "    </tr>\n",
              "    <tr>\n",
              "      <th>2</th>\n",
              "      <td>Resort Hotel</td>\n",
              "      <td>0</td>\n",
              "      <td>7</td>\n",
              "      <td>2015</td>\n",
              "      <td>July</td>\n",
              "      <td>27</td>\n",
              "      <td>1</td>\n",
              "      <td>0</td>\n",
              "      <td>1</td>\n",
              "      <td>1</td>\n",
              "      <td>0.0</td>\n",
              "      <td>0</td>\n",
              "      <td>BB</td>\n",
              "      <td>GBR</td>\n",
              "      <td>Direct</td>\n",
              "      <td>Direct</td>\n",
              "      <td>0</td>\n",
              "      <td>0</td>\n",
              "      <td>0</td>\n",
              "      <td>A</td>\n",
              "      <td>C</td>\n",
              "      <td>0</td>\n",
              "      <td>No Deposit</td>\n",
              "      <td>NaN</td>\n",
              "      <td>NaN</td>\n",
              "      <td>0</td>\n",
              "      <td>Transient</td>\n",
              "      <td>75.0</td>\n",
              "      <td>0</td>\n",
              "      <td>0</td>\n",
              "      <td>Check-Out</td>\n",
              "      <td>2015-07-02</td>\n",
              "    </tr>\n",
              "  </tbody>\n",
              "</table>\n",
              "</div>"
            ],
            "text/plain": [
              "          hotel  is_canceled  ...  reservation_status  reservation_status_date\n",
              "0  Resort Hotel            0  ...           Check-Out               2015-07-01\n",
              "1  Resort Hotel            0  ...           Check-Out               2015-07-01\n",
              "2  Resort Hotel            0  ...           Check-Out               2015-07-02\n",
              "\n",
              "[3 rows x 32 columns]"
            ]
          },
          "metadata": {
            "tags": []
          },
          "execution_count": 6
        }
      ]
    },
    {
      "cell_type": "code",
      "metadata": {
        "id": "LoV6QD-pdLJS",
        "colab": {
          "base_uri": "https://localhost:8080/"
        },
        "outputId": "66895b35-0bd6-4d80-c8ae-1d5ac07fbb75"
      },
      "source": [
        "df.info()"
      ],
      "execution_count": 7,
      "outputs": [
        {
          "output_type": "stream",
          "text": [
            "<class 'pandas.core.frame.DataFrame'>\n",
            "RangeIndex: 119390 entries, 0 to 119389\n",
            "Data columns (total 32 columns):\n",
            " #   Column                          Non-Null Count   Dtype  \n",
            "---  ------                          --------------   -----  \n",
            " 0   hotel                           119390 non-null  object \n",
            " 1   is_canceled                     119390 non-null  int64  \n",
            " 2   lead_time                       119390 non-null  int64  \n",
            " 3   arrival_date_year               119390 non-null  int64  \n",
            " 4   arrival_date_month              119390 non-null  object \n",
            " 5   arrival_date_week_number        119390 non-null  int64  \n",
            " 6   arrival_date_day_of_month       119390 non-null  int64  \n",
            " 7   stays_in_weekend_nights         119390 non-null  int64  \n",
            " 8   stays_in_week_nights            119390 non-null  int64  \n",
            " 9   adults                          119390 non-null  int64  \n",
            " 10  children                        119386 non-null  float64\n",
            " 11  babies                          119390 non-null  int64  \n",
            " 12  meal                            119390 non-null  object \n",
            " 13  country                         118902 non-null  object \n",
            " 14  market_segment                  119390 non-null  object \n",
            " 15  distribution_channel            119390 non-null  object \n",
            " 16  is_repeated_guest               119390 non-null  int64  \n",
            " 17  previous_cancellations          119390 non-null  int64  \n",
            " 18  previous_bookings_not_canceled  119390 non-null  int64  \n",
            " 19  reserved_room_type              119390 non-null  object \n",
            " 20  assigned_room_type              119390 non-null  object \n",
            " 21  booking_changes                 119390 non-null  int64  \n",
            " 22  deposit_type                    119390 non-null  object \n",
            " 23  agent                           103050 non-null  float64\n",
            " 24  company                         6797 non-null    float64\n",
            " 25  days_in_waiting_list            119390 non-null  int64  \n",
            " 26  customer_type                   119390 non-null  object \n",
            " 27  adr                             119390 non-null  float64\n",
            " 28  required_car_parking_spaces     119390 non-null  int64  \n",
            " 29  total_of_special_requests       119390 non-null  int64  \n",
            " 30  reservation_status              119390 non-null  object \n",
            " 31  reservation_status_date         119390 non-null  object \n",
            "dtypes: float64(4), int64(16), object(12)\n",
            "memory usage: 29.1+ MB\n"
          ],
          "name": "stdout"
        }
      ]
    },
    {
      "cell_type": "markdown",
      "metadata": {
        "id": "zyW6ZpHRg5Hj"
      },
      "source": [
        "#Determining distribution channels with high ADR per month\n",
        "\n",
        "Distribution channels with highest ADR, per month should be the focus of the marketing spend, to attract more customers."
      ]
    },
    {
      "cell_type": "code",
      "metadata": {
        "id": "b06lpVt4ckUi"
      },
      "source": [
        "df_a = df.groupby(['arrival_date_month','distribution_channel'])['adr'].mean().unstack()"
      ],
      "execution_count": 273,
      "outputs": []
    },
    {
      "cell_type": "code",
      "metadata": {
        "id": "LBLCqS_LUqBS",
        "colab": {
          "base_uri": "https://localhost:8080/",
          "height": 456
        },
        "outputId": "1974e9a2-ea72-4f36-858e-eb0c7d14b205"
      },
      "source": [
        "df_a"
      ],
      "execution_count": 275,
      "outputs": [
        {
          "output_type": "execute_result",
          "data": {
            "text/html": [
              "<div>\n",
              "<style scoped>\n",
              "    .dataframe tbody tr th:only-of-type {\n",
              "        vertical-align: middle;\n",
              "    }\n",
              "\n",
              "    .dataframe tbody tr th {\n",
              "        vertical-align: top;\n",
              "    }\n",
              "\n",
              "    .dataframe thead th {\n",
              "        text-align: right;\n",
              "    }\n",
              "</style>\n",
              "<table border=\"1\" class=\"dataframe\">\n",
              "  <thead>\n",
              "    <tr style=\"text-align: right;\">\n",
              "      <th>distribution_channel</th>\n",
              "      <th>Corporate</th>\n",
              "      <th>Direct</th>\n",
              "      <th>GDS</th>\n",
              "      <th>TA/TO</th>\n",
              "      <th>Undefined</th>\n",
              "    </tr>\n",
              "    <tr>\n",
              "      <th>arrival_date_month</th>\n",
              "      <th></th>\n",
              "      <th></th>\n",
              "      <th></th>\n",
              "      <th></th>\n",
              "      <th></th>\n",
              "    </tr>\n",
              "  </thead>\n",
              "  <tbody>\n",
              "    <tr>\n",
              "      <th>April</th>\n",
              "      <td>69.506132</td>\n",
              "      <td>99.523556</td>\n",
              "      <td>96.344444</td>\n",
              "      <td>102.033148</td>\n",
              "      <td>NaN</td>\n",
              "    </tr>\n",
              "    <tr>\n",
              "      <th>August</th>\n",
              "      <td>92.665061</td>\n",
              "      <td>161.898404</td>\n",
              "      <td>144.600000</td>\n",
              "      <td>137.520457</td>\n",
              "      <td>29.625</td>\n",
              "    </tr>\n",
              "    <tr>\n",
              "      <th>December</th>\n",
              "      <td>52.996086</td>\n",
              "      <td>93.565880</td>\n",
              "      <td>84.150909</td>\n",
              "      <td>80.414481</td>\n",
              "      <td>NaN</td>\n",
              "    </tr>\n",
              "    <tr>\n",
              "      <th>February</th>\n",
              "      <td>54.898209</td>\n",
              "      <td>71.510560</td>\n",
              "      <td>94.596316</td>\n",
              "      <td>75.612502</td>\n",
              "      <td>NaN</td>\n",
              "    </tr>\n",
              "    <tr>\n",
              "      <th>January</th>\n",
              "      <td>56.391486</td>\n",
              "      <td>63.135985</td>\n",
              "      <td>88.476190</td>\n",
              "      <td>73.682859</td>\n",
              "      <td>NaN</td>\n",
              "    </tr>\n",
              "    <tr>\n",
              "      <th>July</th>\n",
              "      <td>97.303323</td>\n",
              "      <td>146.999842</td>\n",
              "      <td>146.666000</td>\n",
              "      <td>124.672332</td>\n",
              "      <td>112.700</td>\n",
              "    </tr>\n",
              "    <tr>\n",
              "      <th>June</th>\n",
              "      <td>97.024611</td>\n",
              "      <td>126.272123</td>\n",
              "      <td>134.888889</td>\n",
              "      <td>116.734161</td>\n",
              "      <td>NaN</td>\n",
              "    </tr>\n",
              "    <tr>\n",
              "      <th>March</th>\n",
              "      <td>57.040800</td>\n",
              "      <td>76.761017</td>\n",
              "      <td>93.856250</td>\n",
              "      <td>83.280498</td>\n",
              "      <td>NaN</td>\n",
              "    </tr>\n",
              "    <tr>\n",
              "      <th>May</th>\n",
              "      <td>82.942954</td>\n",
              "      <td>109.854567</td>\n",
              "      <td>147.796000</td>\n",
              "      <td>110.024039</td>\n",
              "      <td>NaN</td>\n",
              "    </tr>\n",
              "    <tr>\n",
              "      <th>November</th>\n",
              "      <td>55.425356</td>\n",
              "      <td>71.328240</td>\n",
              "      <td>140.210455</td>\n",
              "      <td>76.802338</td>\n",
              "      <td>NaN</td>\n",
              "    </tr>\n",
              "    <tr>\n",
              "      <th>October</th>\n",
              "      <td>62.537282</td>\n",
              "      <td>81.577408</td>\n",
              "      <td>120.173200</td>\n",
              "      <td>91.442843</td>\n",
              "      <td>NaN</td>\n",
              "    </tr>\n",
              "    <tr>\n",
              "      <th>September</th>\n",
              "      <td>82.755360</td>\n",
              "      <td>118.820688</td>\n",
              "      <td>179.375000</td>\n",
              "      <td>104.870556</td>\n",
              "      <td>NaN</td>\n",
              "    </tr>\n",
              "  </tbody>\n",
              "</table>\n",
              "</div>"
            ],
            "text/plain": [
              "distribution_channel  Corporate      Direct         GDS       TA/TO  Undefined\n",
              "arrival_date_month                                                            \n",
              "April                 69.506132   99.523556   96.344444  102.033148        NaN\n",
              "August                92.665061  161.898404  144.600000  137.520457     29.625\n",
              "December              52.996086   93.565880   84.150909   80.414481        NaN\n",
              "February              54.898209   71.510560   94.596316   75.612502        NaN\n",
              "January               56.391486   63.135985   88.476190   73.682859        NaN\n",
              "July                  97.303323  146.999842  146.666000  124.672332    112.700\n",
              "June                  97.024611  126.272123  134.888889  116.734161        NaN\n",
              "March                 57.040800   76.761017   93.856250   83.280498        NaN\n",
              "May                   82.942954  109.854567  147.796000  110.024039        NaN\n",
              "November              55.425356   71.328240  140.210455   76.802338        NaN\n",
              "October               62.537282   81.577408  120.173200   91.442843        NaN\n",
              "September             82.755360  118.820688  179.375000  104.870556        NaN"
            ]
          },
          "metadata": {
            "tags": []
          },
          "execution_count": 275
        }
      ]
    },
    {
      "cell_type": "code",
      "metadata": {
        "id": "_VjLuh2ZWwpW"
      },
      "source": [
        "df_a = df_a.fillna(0)"
      ],
      "execution_count": 279,
      "outputs": []
    },
    {
      "cell_type": "code",
      "metadata": {
        "colab": {
          "base_uri": "https://localhost:8080/",
          "height": 352
        },
        "id": "Xq74YKcOZ_22",
        "outputId": "7524a4ce-3148-4275-d8b6-f9c6a230d080"
      },
      "source": [
        "sns.scatterplot(data = df_a)"
      ],
      "execution_count": 286,
      "outputs": [
        {
          "output_type": "execute_result",
          "data": {
            "text/plain": [
              "<matplotlib.axes._subplots.AxesSubplot at 0x7fe5f1ef2190>"
            ]
          },
          "metadata": {
            "tags": []
          },
          "execution_count": 286
        },
        {
          "output_type": "display_data",
          "data": {
            "image/png": "[encoded data removed]",
            "text/plain": [
              "<Figure size 720x360 with 1 Axes>"
            ]
          },
          "metadata": {
            "tags": [],
            "needs_background": "light"
          }
        }
      ]
    },
    {
      "cell_type": "markdown",
      "metadata": {
        "id": "hja-TnntdEwK"
      },
      "source": [
        "#Determining Distribution channel attracting most numbers of repeated guests, per month"
      ]
    },
    {
      "cell_type": "code",
      "metadata": {
        "id": "swFb-P2ypZFC"
      },
      "source": [
        "df_b = df.groupby(['arrival_date_month','distribution_channel'])['is_repeated_guest'].sum().unstack()"
      ],
      "execution_count": 289,
      "outputs": []
    },
    {
      "cell_type": "code",
      "metadata": {
        "id": "d0nkYCIKdbxM"
      },
      "source": [
        "df_b = df_b.fillna(0)"
      ],
      "execution_count": 291,
      "outputs": []
    },
    {
      "cell_type": "code",
      "metadata": {
        "colab": {
          "base_uri": "https://localhost:8080/",
          "height": 456
        },
        "id": "PsGnMXiOixQ_",
        "outputId": "2a6f8f96-05cd-4fd1-8950-618b8e405e64"
      },
      "source": [
        "df_b"
      ],
      "execution_count": 313,
      "outputs": [
        {
          "output_type": "execute_result",
          "data": {
            "text/html": [
              "<div>\n",
              "<style scoped>\n",
              "    .dataframe tbody tr th:only-of-type {\n",
              "        vertical-align: middle;\n",
              "    }\n",
              "\n",
              "    .dataframe tbody tr th {\n",
              "        vertical-align: top;\n",
              "    }\n",
              "\n",
              "    .dataframe thead th {\n",
              "        text-align: right;\n",
              "    }\n",
              "</style>\n",
              "<table border=\"1\" class=\"dataframe\">\n",
              "  <thead>\n",
              "    <tr style=\"text-align: right;\">\n",
              "      <th>distribution_channel</th>\n",
              "      <th>Corporate</th>\n",
              "      <th>Direct</th>\n",
              "      <th>GDS</th>\n",
              "      <th>TA/TO</th>\n",
              "      <th>Undefined</th>\n",
              "    </tr>\n",
              "    <tr>\n",
              "      <th>arrival_date_month</th>\n",
              "      <th></th>\n",
              "      <th></th>\n",
              "      <th></th>\n",
              "      <th></th>\n",
              "      <th></th>\n",
              "    </tr>\n",
              "  </thead>\n",
              "  <tbody>\n",
              "    <tr>\n",
              "      <th>April</th>\n",
              "      <td>144.0</td>\n",
              "      <td>65.0</td>\n",
              "      <td>1.0</td>\n",
              "      <td>73.0</td>\n",
              "      <td>0.0</td>\n",
              "    </tr>\n",
              "    <tr>\n",
              "      <th>August</th>\n",
              "      <td>51.0</td>\n",
              "      <td>61.0</td>\n",
              "      <td>0.0</td>\n",
              "      <td>111.0</td>\n",
              "      <td>0.0</td>\n",
              "    </tr>\n",
              "    <tr>\n",
              "      <th>December</th>\n",
              "      <td>127.0</td>\n",
              "      <td>89.0</td>\n",
              "      <td>0.0</td>\n",
              "      <td>98.0</td>\n",
              "      <td>0.0</td>\n",
              "    </tr>\n",
              "    <tr>\n",
              "      <th>February</th>\n",
              "      <td>133.0</td>\n",
              "      <td>119.0</td>\n",
              "      <td>0.0</td>\n",
              "      <td>159.0</td>\n",
              "      <td>0.0</td>\n",
              "    </tr>\n",
              "    <tr>\n",
              "      <th>January</th>\n",
              "      <td>164.0</td>\n",
              "      <td>105.0</td>\n",
              "      <td>0.0</td>\n",
              "      <td>128.0</td>\n",
              "      <td>0.0</td>\n",
              "    </tr>\n",
              "    <tr>\n",
              "      <th>July</th>\n",
              "      <td>94.0</td>\n",
              "      <td>61.0</td>\n",
              "      <td>0.0</td>\n",
              "      <td>146.0</td>\n",
              "      <td>0.0</td>\n",
              "    </tr>\n",
              "    <tr>\n",
              "      <th>June</th>\n",
              "      <td>138.0</td>\n",
              "      <td>75.0</td>\n",
              "      <td>0.0</td>\n",
              "      <td>69.0</td>\n",
              "      <td>0.0</td>\n",
              "    </tr>\n",
              "    <tr>\n",
              "      <th>March</th>\n",
              "      <td>175.0</td>\n",
              "      <td>129.0</td>\n",
              "      <td>1.0</td>\n",
              "      <td>121.0</td>\n",
              "      <td>0.0</td>\n",
              "    </tr>\n",
              "    <tr>\n",
              "      <th>May</th>\n",
              "      <td>180.0</td>\n",
              "      <td>72.0</td>\n",
              "      <td>0.0</td>\n",
              "      <td>114.0</td>\n",
              "      <td>0.0</td>\n",
              "    </tr>\n",
              "    <tr>\n",
              "      <th>November</th>\n",
              "      <td>158.0</td>\n",
              "      <td>65.0</td>\n",
              "      <td>1.0</td>\n",
              "      <td>69.0</td>\n",
              "      <td>0.0</td>\n",
              "    </tr>\n",
              "    <tr>\n",
              "      <th>October</th>\n",
              "      <td>112.0</td>\n",
              "      <td>60.0</td>\n",
              "      <td>0.0</td>\n",
              "      <td>141.0</td>\n",
              "      <td>0.0</td>\n",
              "    </tr>\n",
              "    <tr>\n",
              "      <th>September</th>\n",
              "      <td>96.0</td>\n",
              "      <td>36.0</td>\n",
              "      <td>0.0</td>\n",
              "      <td>69.0</td>\n",
              "      <td>0.0</td>\n",
              "    </tr>\n",
              "  </tbody>\n",
              "</table>\n",
              "</div>"
            ],
            "text/plain": [
              "distribution_channel  Corporate  Direct  GDS  TA/TO  Undefined\n",
              "arrival_date_month                                            \n",
              "April                     144.0    65.0  1.0   73.0        0.0\n",
              "August                     51.0    61.0  0.0  111.0        0.0\n",
              "December                  127.0    89.0  0.0   98.0        0.0\n",
              "February                  133.0   119.0  0.0  159.0        0.0\n",
              "January                   164.0   105.0  0.0  128.0        0.0\n",
              "July                       94.0    61.0  0.0  146.0        0.0\n",
              "June                      138.0    75.0  0.0   69.0        0.0\n",
              "March                     175.0   129.0  1.0  121.0        0.0\n",
              "May                       180.0    72.0  0.0  114.0        0.0\n",
              "November                  158.0    65.0  1.0   69.0        0.0\n",
              "October                   112.0    60.0  0.0  141.0        0.0\n",
              "September                  96.0    36.0  0.0   69.0        0.0"
            ]
          },
          "metadata": {
            "tags": []
          },
          "execution_count": 313
        }
      ]
    },
    {
      "cell_type": "code",
      "metadata": {
        "colab": {
          "base_uri": "https://localhost:8080/",
          "height": 352
        },
        "id": "28U_6xAAq9L1",
        "outputId": "7642fb6f-5439-4249-b826-d8c3b603dc0a"
      },
      "source": [
        "sns.scatterplot(data = df_b)  "
      ],
      "execution_count": 292,
      "outputs": [
        {
          "output_type": "execute_result",
          "data": {
            "text/plain": [
              "<matplotlib.axes._subplots.AxesSubplot at 0x7fe5f279e650>"
            ]
          },
          "metadata": {
            "tags": []
          },
          "execution_count": 292
        },
        {
          "output_type": "display_data",
          "data": {
            "image/png": "[encoded data removed]",
            "text/plain": [
              "<Figure size 720x360 with 1 Axes>"
            ]
          },
          "metadata": {
            "tags": [],
            "needs_background": "light"
          }
        }
      ]
    },
    {
      "cell_type": "markdown",
      "metadata": {
        "id": "4mdSqY_ChD4V"
      },
      "source": [
        "#Determining distribution channels with highest cancellation percentage per month\n",
        "\n"
      ]
    },
    {
      "cell_type": "code",
      "metadata": {
        "id": "u4ehTwQrhJS_"
      },
      "source": [
        "df_c = df.groupby(['arrival_date_month','distribution_channel']).agg({'is_canceled':['count','sum']})"
      ],
      "execution_count": 327,
      "outputs": []
    },
    {
      "cell_type": "code",
      "metadata": {
        "id": "dQUyZwfvhOLL"
      },
      "source": [
        "df_c['cancel_percent'] = (df_c['is_canceled'].loc[:,'sum']/df_c['is_canceled'].loc[:,'count'])*100"
      ],
      "execution_count": 331,
      "outputs": []
    },
    {
      "cell_type": "code",
      "metadata": {
        "id": "WUieVldulrjo"
      },
      "source": [
        "df_c.drop('is_canceled',axis=1,inplace=True)"
      ],
      "execution_count": 332,
      "outputs": []
    },
    {
      "cell_type": "code",
      "metadata": {
        "id": "p-9VVDsalscc"
      },
      "source": [
        "df_c = df_c.unstack().fillna(0)"
      ],
      "execution_count": 333,
      "outputs": []
    },
    {
      "cell_type": "code",
      "metadata": {
        "id": "egnA1aOBjK6d"
      },
      "source": [
        "df_c[['Corporate', 'Direct','GDS','TA/TO','Undefined']] = df_c.cancel_percent.loc[:,:'undefined']"
      ],
      "execution_count": 336,
      "outputs": []
    },
    {
      "cell_type": "code",
      "metadata": {
        "id": "GPYwXOQUlSGk"
      },
      "source": [
        "df_c.drop('cancel_percent',axis = 1,inplace=True)"
      ],
      "execution_count": 338,
      "outputs": []
    },
    {
      "cell_type": "code",
      "metadata": {
        "colab": {
          "base_uri": "https://localhost:8080/",
          "height": 352
        },
        "id": "fnnrqNkrmDNk",
        "outputId": "052164d1-849c-4ee7-f550-3c25cf059628"
      },
      "source": [
        "sns.scatterplot(data = df_c)"
      ],
      "execution_count": 339,
      "outputs": [
        {
          "output_type": "execute_result",
          "data": {
            "text/plain": [
              "<matplotlib.axes._subplots.AxesSubplot at 0x7fe5f192cad0>"
            ]
          },
          "metadata": {
            "tags": []
          },
          "execution_count": 339
        },
        {
          "output_type": "display_data",
          "data": {
            "image/png": "[encoded data removed]",
            "text/plain": [
              "<Figure size 720x360 with 1 Axes>"
            ]
          },
          "metadata": {
            "tags": [],
            "needs_background": "light"
          }
        }
      ]
    },
    {
      "cell_type": "markdown",
      "metadata": {
        "id": "FCHM6XkFpAP1"
      },
      "source": [
        "#Determining distribution channels, bringing in customers with most number of special requests, per month."
      ]
    },
    {
      "cell_type": "code",
      "metadata": {
        "id": "dgQHBYb3pKPI"
      },
      "source": [
        "df_d = df.groupby(['arrival_date_month','distribution_channel'])['total_of_special_requests'].sum().unstack()"
      ],
      "execution_count": 344,
      "outputs": []
    },
    {
      "cell_type": "code",
      "metadata": {
        "colab": {
          "base_uri": "https://localhost:8080/",
          "height": 450
        },
        "id": "yCltT-2Upa1b",
        "outputId": "40f45cae-7800-413a-e69e-b5dcce258e21"
      },
      "source": [
        "df_d"
      ],
      "execution_count": 345,
      "outputs": [
        {
          "output_type": "execute_result",
          "data": {
            "text/html": [
              "<div>\n",
              "<style scoped>\n",
              "    .dataframe tbody tr th:only-of-type {\n",
              "        vertical-align: middle;\n",
              "    }\n",
              "\n",
              "    .dataframe tbody tr th {\n",
              "        vertical-align: top;\n",
              "    }\n",
              "\n",
              "    .dataframe thead th {\n",
              "        text-align: right;\n",
              "    }\n",
              "</style>\n",
              "<table border=\"1\" class=\"dataframe\">\n",
              "  <thead>\n",
              "    <tr style=\"text-align: right;\">\n",
              "      <th>distribution_channel</th>\n",
              "      <th>Corporate</th>\n",
              "      <th>Direct</th>\n",
              "      <th>GDS</th>\n",
              "      <th>TA/TO</th>\n",
              "      <th>Undefined</th>\n",
              "    </tr>\n",
              "    <tr>\n",
              "      <th>arrival_date_month</th>\n",
              "      <th></th>\n",
              "      <th></th>\n",
              "      <th></th>\n",
              "      <th></th>\n",
              "      <th></th>\n",
              "    </tr>\n",
              "  </thead>\n",
              "  <tbody>\n",
              "    <tr>\n",
              "      <th>April</th>\n",
              "      <td>92.0</td>\n",
              "      <td>618.0</td>\n",
              "      <td>2.0</td>\n",
              "      <td>5071.0</td>\n",
              "      <td>NaN</td>\n",
              "    </tr>\n",
              "    <tr>\n",
              "      <th>August</th>\n",
              "      <td>102.0</td>\n",
              "      <td>1550.0</td>\n",
              "      <td>2.0</td>\n",
              "      <td>8564.0</td>\n",
              "      <td>5.0</td>\n",
              "    </tr>\n",
              "    <tr>\n",
              "      <th>December</th>\n",
              "      <td>111.0</td>\n",
              "      <td>598.0</td>\n",
              "      <td>0.0</td>\n",
              "      <td>3454.0</td>\n",
              "      <td>NaN</td>\n",
              "    </tr>\n",
              "    <tr>\n",
              "      <th>February</th>\n",
              "      <td>103.0</td>\n",
              "      <td>632.0</td>\n",
              "      <td>2.0</td>\n",
              "      <td>3504.0</td>\n",
              "      <td>NaN</td>\n",
              "    </tr>\n",
              "    <tr>\n",
              "      <th>January</th>\n",
              "      <td>117.0</td>\n",
              "      <td>371.0</td>\n",
              "      <td>6.0</td>\n",
              "      <td>2752.0</td>\n",
              "      <td>NaN</td>\n",
              "    </tr>\n",
              "    <tr>\n",
              "      <th>July</th>\n",
              "      <td>98.0</td>\n",
              "      <td>1098.0</td>\n",
              "      <td>0.0</td>\n",
              "      <td>7307.0</td>\n",
              "      <td>2.0</td>\n",
              "    </tr>\n",
              "    <tr>\n",
              "      <th>June</th>\n",
              "      <td>123.0</td>\n",
              "      <td>683.0</td>\n",
              "      <td>2.0</td>\n",
              "      <td>5361.0</td>\n",
              "      <td>NaN</td>\n",
              "    </tr>\n",
              "    <tr>\n",
              "      <th>March</th>\n",
              "      <td>147.0</td>\n",
              "      <td>491.0</td>\n",
              "      <td>0.0</td>\n",
              "      <td>4234.0</td>\n",
              "      <td>NaN</td>\n",
              "    </tr>\n",
              "    <tr>\n",
              "      <th>May</th>\n",
              "      <td>153.0</td>\n",
              "      <td>518.0</td>\n",
              "      <td>8.0</td>\n",
              "      <td>5601.0</td>\n",
              "      <td>NaN</td>\n",
              "    </tr>\n",
              "    <tr>\n",
              "      <th>November</th>\n",
              "      <td>131.0</td>\n",
              "      <td>325.0</td>\n",
              "      <td>8.0</td>\n",
              "      <td>3485.0</td>\n",
              "      <td>NaN</td>\n",
              "    </tr>\n",
              "    <tr>\n",
              "      <th>October</th>\n",
              "      <td>144.0</td>\n",
              "      <td>444.0</td>\n",
              "      <td>8.0</td>\n",
              "      <td>4920.0</td>\n",
              "      <td>NaN</td>\n",
              "    </tr>\n",
              "    <tr>\n",
              "      <th>September</th>\n",
              "      <td>53.0</td>\n",
              "      <td>495.0</td>\n",
              "      <td>0.0</td>\n",
              "      <td>4720.0</td>\n",
              "      <td>NaN</td>\n",
              "    </tr>\n",
              "  </tbody>\n",
              "</table>\n",
              "</div>"
            ],
            "text/plain": [
              "distribution_channel  Corporate  Direct  GDS   TA/TO  Undefined\n",
              "arrival_date_month                                             \n",
              "April                      92.0   618.0  2.0  5071.0        NaN\n",
              "August                    102.0  1550.0  2.0  8564.0        5.0\n",
              "December                  111.0   598.0  0.0  3454.0        NaN\n",
              "February                  103.0   632.0  2.0  3504.0        NaN\n",
              "January                   117.0   371.0  6.0  2752.0        NaN\n",
              "July                       98.0  1098.0  0.0  7307.0        2.0\n",
              "June                      123.0   683.0  2.0  5361.0        NaN\n",
              "March                     147.0   491.0  0.0  4234.0        NaN\n",
              "May                       153.0   518.0  8.0  5601.0        NaN\n",
              "November                  131.0   325.0  8.0  3485.0        NaN\n",
              "October                   144.0   444.0  8.0  4920.0        NaN\n",
              "September                  53.0   495.0  0.0  4720.0        NaN"
            ]
          },
          "metadata": {
            "tags": []
          },
          "execution_count": 345
        }
      ]
    },
    {
      "cell_type": "code",
      "metadata": {
        "colab": {
          "base_uri": "https://localhost:8080/",
          "height": 352
        },
        "id": "gFiAKCaOrgkF",
        "outputId": "62dcd593-bdd9-4a38-da6e-619280ee443b"
      },
      "source": [
        "sns.scatterplot(data = df_d)"
      ],
      "execution_count": 346,
      "outputs": [
        {
          "output_type": "execute_result",
          "data": {
            "text/plain": [
              "<matplotlib.axes._subplots.AxesSubplot at 0x7fe5f1943c10>"
            ]
          },
          "metadata": {
            "tags": []
          },
          "execution_count": 346
        },
        {
          "output_type": "display_data",
          "data": {
            "image/png": "[encoded data removed]",
            "text/plain": [
              "<Figure size 720x360 with 1 Axes>"
            ]
          },
          "metadata": {
            "tags": [],
            "needs_background": "light"
          }
        }
      ]
    },
    {
      "cell_type": "markdown",
      "metadata": {
        "id": "VPhst6FlrOHl"
      },
      "source": [
        "#Merging to compare data from same month, country and distribution channels"
      ]
    },
    {
      "cell_type": "code",
      "metadata": {
        "id": "nwkz_wr3pboz"
      },
      "source": [
        "from functools import reduce"
      ],
      "execution_count": 128,
      "outputs": []
    },
    {
      "cell_type": "code",
      "metadata": {
        "id": "CAFpWGoorXcu"
      },
      "source": [
        "df_list = [df_a,df_b,df_c,df_d]"
      ],
      "execution_count": 258,
      "outputs": []
    },
    {
      "cell_type": "code",
      "metadata": {
        "colab": {
          "base_uri": "https://localhost:8080/"
        },
        "id": "YEGtWo_drjw6",
        "outputId": "5d6c07fc-9c83-47f2-a14d-a355e1b578be"
      },
      "source": [
        "df_final = reduce(lambda left,right: pd.merge(left,right,how='inner',on=['arrival_date_month','country','distribution_channel']), df_list)"
      ],
      "execution_count": 259,
      "outputs": [
        {
          "output_type": "stream",
          "text": [
            "/usr/local/lib/python3.7/dist-packages/pandas/core/reshape/merge.py:643: UserWarning: merging between different levels can give an unintended result (1 levels on the left,2 on the right)\n",
            "  warnings.warn(msg, UserWarning)\n",
            "/usr/local/lib/python3.7/dist-packages/pandas/core/generic.py:3889: PerformanceWarning: dropping on a non-lexsorted multi-index without a level parameter may impact performance.\n",
            "  obj = obj._drop_axis(labels, axis, level=level, errors=errors)\n"
          ],
          "name": "stderr"
        }
      ]
    },
    {
      "cell_type": "code",
      "metadata": {
        "id": "5c1oXHYtr95x"
      },
      "source": [
        "df_final.columns = ['arrival_date_month','country','distribution_channel','adr','is_repeated_guest','cancel_percent','total_of_special_requests']"
      ],
      "execution_count": 260,
      "outputs": []
    },
    {
      "cell_type": "code",
      "metadata": {
        "colab": {
          "base_uri": "https://localhost:8080/",
          "height": 203
        },
        "id": "1qkdQVKiP5WN",
        "outputId": "92062e6c-e542-4b4a-e872-9d6439e6459d"
      },
      "source": [
        "df_final.head()"
      ],
      "execution_count": 261,
      "outputs": [
        {
          "output_type": "execute_result",
          "data": {
            "text/html": [
              "<div>\n",
              "<style scoped>\n",
              "    .dataframe tbody tr th:only-of-type {\n",
              "        vertical-align: middle;\n",
              "    }\n",
              "\n",
              "    .dataframe tbody tr th {\n",
              "        vertical-align: top;\n",
              "    }\n",
              "\n",
              "    .dataframe thead th {\n",
              "        text-align: right;\n",
              "    }\n",
              "</style>\n",
              "<table border=\"1\" class=\"dataframe\">\n",
              "  <thead>\n",
              "    <tr style=\"text-align: right;\">\n",
              "      <th></th>\n",
              "      <th>arrival_date_month</th>\n",
              "      <th>country</th>\n",
              "      <th>distribution_channel</th>\n",
              "      <th>adr</th>\n",
              "      <th>is_repeated_guest</th>\n",
              "      <th>cancel_percent</th>\n",
              "      <th>total_of_special_requests</th>\n",
              "    </tr>\n",
              "  </thead>\n",
              "  <tbody>\n",
              "    <tr>\n",
              "      <th>0</th>\n",
              "      <td>April</td>\n",
              "      <td>AGO</td>\n",
              "      <td>Direct</td>\n",
              "      <td>113.2090</td>\n",
              "      <td>3</td>\n",
              "      <td>10.0</td>\n",
              "      <td>10</td>\n",
              "    </tr>\n",
              "    <tr>\n",
              "      <th>1</th>\n",
              "      <td>April</td>\n",
              "      <td>AGO</td>\n",
              "      <td>TA/TO</td>\n",
              "      <td>134.6080</td>\n",
              "      <td>1</td>\n",
              "      <td>80.0</td>\n",
              "      <td>3</td>\n",
              "    </tr>\n",
              "    <tr>\n",
              "      <th>2</th>\n",
              "      <td>April</td>\n",
              "      <td>ALB</td>\n",
              "      <td>TA/TO</td>\n",
              "      <td>109.0000</td>\n",
              "      <td>0</td>\n",
              "      <td>100.0</td>\n",
              "      <td>0</td>\n",
              "    </tr>\n",
              "    <tr>\n",
              "      <th>3</th>\n",
              "      <td>April</td>\n",
              "      <td>AND</td>\n",
              "      <td>TA/TO</td>\n",
              "      <td>115.0000</td>\n",
              "      <td>0</td>\n",
              "      <td>100.0</td>\n",
              "      <td>0</td>\n",
              "    </tr>\n",
              "    <tr>\n",
              "      <th>4</th>\n",
              "      <td>April</td>\n",
              "      <td>ARE</td>\n",
              "      <td>TA/TO</td>\n",
              "      <td>108.8375</td>\n",
              "      <td>0</td>\n",
              "      <td>75.0</td>\n",
              "      <td>5</td>\n",
              "    </tr>\n",
              "  </tbody>\n",
              "</table>\n",
              "</div>"
            ],
            "text/plain": [
              "  arrival_date_month country  ... cancel_percent  total_of_special_requests\n",
              "0              April     AGO  ...           10.0                         10\n",
              "1              April     AGO  ...           80.0                          3\n",
              "2              April     ALB  ...          100.0                          0\n",
              "3              April     AND  ...          100.0                          0\n",
              "4              April     ARE  ...           75.0                          5\n",
              "\n",
              "[5 rows x 7 columns]"
            ]
          },
          "metadata": {
            "tags": []
          },
          "execution_count": 261
        }
      ]
    },
    {
      "cell_type": "code",
      "metadata": {
        "colab": {
          "base_uri": "https://localhost:8080/",
          "height": 417
        },
        "id": "ApM8RBpDNG8N",
        "outputId": "7d94c0eb-ae1f-4bba-8fb7-ebfbf1581291"
      },
      "source": [
        "df_final['score'] = (df_final['adr'] + df_final['is_repeated_guest'] + df['total_of_special_requests'])-df_final['cancel_percent']\n",
        "df_final"
      ],
      "execution_count": 262,
      "outputs": [
        {
          "output_type": "execute_result",
          "data": {
            "text/html": [
              "<div>\n",
              "<style scoped>\n",
              "    .dataframe tbody tr th:only-of-type {\n",
              "        vertical-align: middle;\n",
              "    }\n",
              "\n",
              "    .dataframe tbody tr th {\n",
              "        vertical-align: top;\n",
              "    }\n",
              "\n",
              "    .dataframe thead th {\n",
              "        text-align: right;\n",
              "    }\n",
              "</style>\n",
              "<table border=\"1\" class=\"dataframe\">\n",
              "  <thead>\n",
              "    <tr style=\"text-align: right;\">\n",
              "      <th></th>\n",
              "      <th>arrival_date_month</th>\n",
              "      <th>country</th>\n",
              "      <th>distribution_channel</th>\n",
              "      <th>adr</th>\n",
              "      <th>is_repeated_guest</th>\n",
              "      <th>cancel_percent</th>\n",
              "      <th>total_of_special_requests</th>\n",
              "      <th>score</th>\n",
              "    </tr>\n",
              "  </thead>\n",
              "  <tbody>\n",
              "    <tr>\n",
              "      <th>0</th>\n",
              "      <td>April</td>\n",
              "      <td>AGO</td>\n",
              "      <td>Direct</td>\n",
              "      <td>113.209000</td>\n",
              "      <td>3</td>\n",
              "      <td>10.000000</td>\n",
              "      <td>10</td>\n",
              "      <td>106.209000</td>\n",
              "    </tr>\n",
              "    <tr>\n",
              "      <th>1</th>\n",
              "      <td>April</td>\n",
              "      <td>AGO</td>\n",
              "      <td>TA/TO</td>\n",
              "      <td>134.608000</td>\n",
              "      <td>1</td>\n",
              "      <td>80.000000</td>\n",
              "      <td>3</td>\n",
              "      <td>55.608000</td>\n",
              "    </tr>\n",
              "    <tr>\n",
              "      <th>2</th>\n",
              "      <td>April</td>\n",
              "      <td>ALB</td>\n",
              "      <td>TA/TO</td>\n",
              "      <td>109.000000</td>\n",
              "      <td>0</td>\n",
              "      <td>100.000000</td>\n",
              "      <td>0</td>\n",
              "      <td>9.000000</td>\n",
              "    </tr>\n",
              "    <tr>\n",
              "      <th>3</th>\n",
              "      <td>April</td>\n",
              "      <td>AND</td>\n",
              "      <td>TA/TO</td>\n",
              "      <td>115.000000</td>\n",
              "      <td>0</td>\n",
              "      <td>100.000000</td>\n",
              "      <td>0</td>\n",
              "      <td>15.000000</td>\n",
              "    </tr>\n",
              "    <tr>\n",
              "      <th>4</th>\n",
              "      <td>April</td>\n",
              "      <td>ARE</td>\n",
              "      <td>TA/TO</td>\n",
              "      <td>108.837500</td>\n",
              "      <td>0</td>\n",
              "      <td>75.000000</td>\n",
              "      <td>5</td>\n",
              "      <td>34.837500</td>\n",
              "    </tr>\n",
              "    <tr>\n",
              "      <th>...</th>\n",
              "      <td>...</td>\n",
              "      <td>...</td>\n",
              "      <td>...</td>\n",
              "      <td>...</td>\n",
              "      <td>...</td>\n",
              "      <td>...</td>\n",
              "      <td>...</td>\n",
              "      <td>...</td>\n",
              "    </tr>\n",
              "    <tr>\n",
              "      <th>2034</th>\n",
              "      <td>September</td>\n",
              "      <td>USA</td>\n",
              "      <td>Direct</td>\n",
              "      <td>142.066579</td>\n",
              "      <td>0</td>\n",
              "      <td>2.631579</td>\n",
              "      <td>21</td>\n",
              "      <td>140.435000</td>\n",
              "    </tr>\n",
              "    <tr>\n",
              "      <th>2035</th>\n",
              "      <td>September</td>\n",
              "      <td>USA</td>\n",
              "      <td>TA/TO</td>\n",
              "      <td>118.387413</td>\n",
              "      <td>0</td>\n",
              "      <td>20.279720</td>\n",
              "      <td>114</td>\n",
              "      <td>99.107692</td>\n",
              "    </tr>\n",
              "    <tr>\n",
              "      <th>2036</th>\n",
              "      <td>September</td>\n",
              "      <td>VEN</td>\n",
              "      <td>TA/TO</td>\n",
              "      <td>112.686000</td>\n",
              "      <td>0</td>\n",
              "      <td>80.000000</td>\n",
              "      <td>4</td>\n",
              "      <td>33.686000</td>\n",
              "    </tr>\n",
              "    <tr>\n",
              "      <th>2037</th>\n",
              "      <td>September</td>\n",
              "      <td>VNM</td>\n",
              "      <td>TA/TO</td>\n",
              "      <td>94.810000</td>\n",
              "      <td>0</td>\n",
              "      <td>0.000000</td>\n",
              "      <td>1</td>\n",
              "      <td>94.810000</td>\n",
              "    </tr>\n",
              "    <tr>\n",
              "      <th>2038</th>\n",
              "      <td>September</td>\n",
              "      <td>ZAF</td>\n",
              "      <td>TA/TO</td>\n",
              "      <td>143.775000</td>\n",
              "      <td>0</td>\n",
              "      <td>0.000000</td>\n",
              "      <td>0</td>\n",
              "      <td>145.775000</td>\n",
              "    </tr>\n",
              "  </tbody>\n",
              "</table>\n",
              "<p>2039 rows × 8 columns</p>\n",
              "</div>"
            ],
            "text/plain": [
              "     arrival_date_month country  ... total_of_special_requests       score\n",
              "0                 April     AGO  ...                        10  106.209000\n",
              "1                 April     AGO  ...                         3   55.608000\n",
              "2                 April     ALB  ...                         0    9.000000\n",
              "3                 April     AND  ...                         0   15.000000\n",
              "4                 April     ARE  ...                         5   34.837500\n",
              "...                 ...     ...  ...                       ...         ...\n",
              "2034          September     USA  ...                        21  140.435000\n",
              "2035          September     USA  ...                       114   99.107692\n",
              "2036          September     VEN  ...                         4   33.686000\n",
              "2037          September     VNM  ...                         1   94.810000\n",
              "2038          September     ZAF  ...                         0  145.775000\n",
              "\n",
              "[2039 rows x 8 columns]"
            ]
          },
          "metadata": {
            "tags": []
          },
          "execution_count": 262
        }
      ]
    },
    {
      "cell_type": "code",
      "metadata": {
        "id": "UPk4kE-8O6bk"
      },
      "source": [
        "df_final.drop(['adr','is_repeated_guest','cancel_percent','total_of_special_requests'],inplace=True,axis=1)"
      ],
      "execution_count": 263,
      "outputs": []
    },
    {
      "cell_type": "code",
      "metadata": {
        "id": "kJuzZ668OgrW"
      },
      "source": [
        "df_final = df_final.sort_values(by='score',ascending=False)"
      ],
      "execution_count": 264,
      "outputs": []
    },
    {
      "cell_type": "code",
      "metadata": {
        "colab": {
          "base_uri": "https://localhost:8080/"
        },
        "id": "m4sOzBa9O0D9",
        "outputId": "d0fff8d4-8db2-4dca-fba8-04d0cca99977"
      },
      "source": [
        "df_final.groupby(['arrival_date_month','country','distribution_channel'])['score'].sum()"
      ],
      "execution_count": 269,
      "outputs": [
        {
          "output_type": "execute_result",
          "data": {
            "text/plain": [
              "arrival_date_month  country  distribution_channel\n",
              "April               AGO      Direct                  106.209000\n",
              "                             TA/TO                    55.608000\n",
              "                    ALB      TA/TO                     9.000000\n",
              "                    AND      TA/TO                    15.000000\n",
              "                    ARE      TA/TO                    34.837500\n",
              "                                                        ...    \n",
              "September           USA      Direct                  140.435000\n",
              "                             TA/TO                    99.107692\n",
              "                    VEN      TA/TO                    33.686000\n",
              "                    VNM      TA/TO                    94.810000\n",
              "                    ZAF      TA/TO                   145.775000\n",
              "Name: score, Length: 2039, dtype: float64"
            ]
          },
          "metadata": {
            "tags": []
          },
          "execution_count": 269
        }
      ]
    },
    {
      "cell_type": "code",
      "metadata": {
        "id": "E9cnJ-YIQQb7"
      },
      "source": [
        ""
      ],
      "execution_count": null,
      "outputs": []
    }
  ]
}